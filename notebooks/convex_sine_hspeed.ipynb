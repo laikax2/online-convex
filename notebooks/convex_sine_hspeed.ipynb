{
 "cells": [
  {
   "cell_type": "markdown",
   "metadata": {},
   "source": [
    "# Summary\n",
    "\n",
    "This notebook visualizes the performance of the individual learners, and their combination, the convex model.\n",
    "\n",
    "It uses the Sine high speed high severity dataset."
   ]
  },
  {
   "cell_type": "markdown",
   "metadata": {},
   "source": [
    "# Libraries"
   ]
  },
  {
   "cell_type": "code",
   "execution_count": 69,
   "metadata": {},
   "outputs": [],
   "source": [
    "import sys\n",
    "\n",
    "sys.path.append(\"../\")\n",
    "\n",
    "from src.convex_combination import ConvexCombination\n",
    "from src.online_bagging import OnlineBagging\n",
    "from src.drift_detector import DriftDetectorWrapper"
   ]
  },
  {
   "cell_type": "markdown",
   "metadata": {},
   "source": [
    "# Preparation"
   ]
  },
  {
   "cell_type": "markdown",
   "metadata": {},
   "source": [
    "## Dataset"
   ]
  },
  {
   "cell_type": "code",
   "execution_count": 70,
   "metadata": {},
   "outputs": [],
   "source": [
    "# Sine high speed high severity\n",
    "from river.datasets import synth\n",
    "from itertools import chain\n",
    "\n",
    "class_list = [0, 1]\n",
    "n_samples = 10000\n",
    "\n",
    "stream1 = synth.Sine(classification_function=2, balance_classes=True, has_noise=True)\n",
    "stream2 = synth.Sine(classification_function=3, balance_classes=True, has_noise=True)\n",
    "stream3 = synth.Sine(classification_function=2, balance_classes=True, has_noise=True)\n",
    "\n",
    "dataset = chain(stream1.take(3000), stream2.take(3000), stream3.take(4000))"
   ]
  },
  {
   "cell_type": "markdown",
   "metadata": {},
   "source": [
    "## Models"
   ]
  },
  {
   "cell_type": "code",
   "execution_count": 71,
   "metadata": {},
   "outputs": [],
   "source": [
    "# We create a function as a constructor for the logistic regression model\n",
    "from river import preprocessing, optim, linear_model\n",
    "\n",
    "\n",
    "def get_logis_reg():\n",
    "    return preprocessing.StandardScaler() | linear_model.LogisticRegression(\n",
    "        optimizer=optim.SGD(0.1)\n",
    "    )"
   ]
  },
  {
   "cell_type": "code",
   "execution_count": 72,
   "metadata": {},
   "outputs": [],
   "source": [
    "from river import tree, drift\n",
    "\n",
    "p_ht = {\"delta\": 1e-07, \"max_depth\": 25}\n",
    "p_drift_detector = {\"alpha\": 0.90, \"beta\": 0.85}\n",
    "p_convex = {\"gamma\": 0.9, \"mu\": 1, \"lambda_error\": 0.95, \"store_metrics\": True}\n",
    "\n",
    "p_slow_ensemble = {\n",
    "    \"base_classifier_class\": tree.HoeffdingTreeClassifier,\n",
    "    \"n_classifiers\": 10,\n",
    "    \"lambda_diversity\": 1,\n",
    "    \"p_classifiers\": p_ht,\n",
    "    \"class_list\": class_list,\n",
    "}\n",
    "p_fast_ensemble = {\n",
    "    \"base_classifier_class\": get_logis_reg,\n",
    "    \"n_classifiers\": 10,\n",
    "    \"lambda_diversity\": 1,\n",
    "    \"p_classifiers\": {},\n",
    "    \"class_list\": class_list,\n",
    "}\n",
    "slow_learner = DriftDetectorWrapper(\n",
    "    OnlineBagging(**p_slow_ensemble),\n",
    "    drift.binary.EDDM(**p_drift_detector),\n",
    "    train_in_background=False,\n",
    ")\n",
    "fast_learner = OnlineBagging(**p_fast_ensemble)\n",
    "convex_model = ConvexCombination(\n",
    "    fast_learner, slow_learner, p_convex=p_convex, class_list=class_list\n",
    ")\n",
    "\n",
    "n_models = 3"
   ]
  },
  {
   "cell_type": "markdown",
   "metadata": {},
   "source": [
    "# Execution"
   ]
  },
  {
   "cell_type": "markdown",
   "metadata": {},
   "source": [
    "## Main loop"
   ]
  },
  {
   "cell_type": "code",
   "execution_count": 73,
   "metadata": {},
   "outputs": [],
   "source": [
    "# Lists for storing predictions convex\n",
    "y_true_list = []\n",
    "y_pred_list = []\n",
    "\n",
    "for i in range(n_models):\n",
    "    y_pred_list.append([])"
   ]
  },
  {
   "cell_type": "code",
   "execution_count": 74,
   "metadata": {},
   "outputs": [],
   "source": [
    "# Generic loop for convex storing predictions\n",
    "for idx, (x, y) in enumerate(dataset):\n",
    "    # Predict and update the model\n",
    "    y_convex, y_fast, y_slow = convex_model.predict_one(x, include_individual=True)\n",
    "    convex_model.learn_one(x, y)\n",
    "\n",
    "    y_true_list.append(y)\n",
    "    y_pred_list[0].append(y_convex)\n",
    "    y_pred_list[1].append(y_fast)\n",
    "    y_pred_list[2].append(y_slow)"
   ]
  },
  {
   "cell_type": "markdown",
   "metadata": {},
   "source": [
    "## Metrics"
   ]
  },
  {
   "cell_type": "code",
   "execution_count": 75,
   "metadata": {},
   "outputs": [],
   "source": [
    "# Metrics\n",
    "from river import metrics, utils\n",
    "\n",
    "\n",
    "metrics_list = []\n",
    "metrics_cum_list = []\n",
    "\n",
    "for i in range(n_models):\n",
    "    model_metrics = [utils.Rolling(metrics.Accuracy(), 250), utils.Rolling(metrics.Accuracy(), 1000)]\n",
    "    n_metrics = len(model_metrics)\n",
    "\n",
    "    metrics_list.append(model_metrics)\n",
    "    metrics_cum_list.append([[] for _ in range(n_metrics)])"
   ]
  },
  {
   "cell_type": "code",
   "execution_count": 76,
   "metadata": {},
   "outputs": [],
   "source": [
    "# Convert predictions to metrics\n",
    "for i in range(n_models):\n",
    "    for idx in range(len(y_true_list)):\n",
    "        y = y_true_list[idx]\n",
    "        y_pred = y_pred_list[i][idx]\n",
    "        # Update the metrics\n",
    "        for j in range(n_metrics):\n",
    "            try:\n",
    "                metrics_list[i][j].update(y, y_pred)\n",
    "            except:\n",
    "                metrics_list[i][j].update(y, class_list[0])\n",
    "                print(\"ERROR\")\n",
    "            metrics_cum_list[i][j].append(metrics_list[i][j].get())"
   ]
  },
  {
   "cell_type": "markdown",
   "metadata": {},
   "source": [
    "# Plotting"
   ]
  },
  {
   "cell_type": "code",
   "execution_count": null,
   "metadata": {},
   "outputs": [],
   "source": [
    "from datetime import datetime\n",
    "import matplotlib.pyplot as plt\n",
    "\n",
    "metric_n = 1\n",
    "\n",
    "fig, ax = plt.subplots()\n",
    "ax.plot(range(1, n_samples + 1), metrics_cum_list[1][metric_n], \"-\", color=\"tab:orange\", label=f\"Fast\")\n",
    "ax.plot(range(1, n_samples + 1), metrics_cum_list[2][metric_n], \"-\", color=\"tab:blue\", label=f\"Slow\")\n",
    "ax.plot(range(1, n_samples + 1), metrics_cum_list[0][metric_n], \":\", color=\"k\", label=f\"Convex\")\n",
    "ax.set_xlim(0, n_samples)\n",
    "ax.set_ylim(0.5, 1)\n",
    "ax.set_xlabel(\"Time step\")\n",
    "ax.set_ylabel(\"Accuracy\")\n",
    "#ax.set_title(\"Graph title\")\n",
    "ax.legend(loc=\"lower left\")\n",
    "ax.grid()\n",
    "print(f\"Executed {datetime.now()}\")"
   ]
  },
  {
   "cell_type": "markdown",
   "metadata": {},
   "source": [
    "## Past plots"
   ]
  },
  {
   "cell_type": "code",
   "execution_count": 77,
   "metadata": {},
   "outputs": [
    {
     "name": "stdout",
     "output_type": "stream",
     "text": [
      "Executed 2023-09-01 18:04:44.265745\n"
     ]
    },
    {
     "data": {
      "image/png": "[encoded data removed]",
      "text/plain": [
       "<Figure size 640x480 with 1 Axes>"
      ]
     },
     "metadata": {},
     "output_type": "display_data"
    }
   ],
   "source": [
    "# Plot with final configuration\n",
    "from datetime import datetime\n",
    "import matplotlib.pyplot as plt\n",
    "\n",
    "metric_n = 1\n",
    "\n",
    "fig, ax = plt.subplots()\n",
    "ax.plot(range(1, n_samples + 1), metrics_cum_list[1][metric_n], \"-\", color=\"tab:orange\", label=f\"Fast\")\n",
    "ax.plot(range(1, n_samples + 1), metrics_cum_list[2][metric_n], \"-\", color=\"tab:blue\", label=f\"Slow\")\n",
    "ax.plot(range(1, n_samples + 1), metrics_cum_list[0][metric_n], \":\", color=\"k\", label=f\"Convex\")\n",
    "ax.set_xlim(0, n_samples)\n",
    "ax.set_ylim(0.5, 1)\n",
    "ax.set_xlabel(\"Time step\")\n",
    "ax.set_ylabel(\"Accuracy\")\n",
    "#ax.set_title(\"Graph title\")\n",
    "ax.legend(loc=\"lower left\")\n",
    "ax.grid()\n",
    "print(f\"Executed {datetime.now()}\")"
   ]
  }
 ],
 "metadata": {
  "kernelspec": {
   "display_name": "tfg-colab",
   "language": "python",
   "name": "python3"
  },
  "language_info": {
   "codemirror_mode": {
    "name": "ipython",
    "version": 3
   },
   "file_extension": ".py",
   "mimetype": "text/x-python",
   "name": "python",
   "nbconvert_exporter": "python",
   "pygments_lexer": "ipython3",
   "version": "3.10.12"
  },
  "orig_nbformat": 4
 },
 "nbformat": 4,
 "nbformat_minor": 2
}
